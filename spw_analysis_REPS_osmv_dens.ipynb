{
 "cells": [
  {
   "cell_type": "markdown",
   "metadata": {},
   "source": [
    "## Imports"
   ]
  },
  {
   "cell_type": "code",
   "execution_count": 2,
   "metadata": {},
   "outputs": [
    {
     "name": "stderr",
     "output_type": "stream",
     "text": [
      "/tmp/ipykernel_1155313/2315645241.py:3: DeprecationWarning: \n",
      "Pyarrow will become a required dependency of pandas in the next major release of pandas (pandas 3.0),\n",
      "(to allow more performant data types, such as the Arrow string type, and better interoperability with other libraries)\n",
      "but was not found to be installed on your system.\n",
      "If this would cause problems for you,\n",
      "please provide us feedback at https://github.com/pandas-dev/pandas/issues/54466\n",
      "        \n",
      "  import pandas as pd\n",
      "Warning on use of the timeseries module: If the inherent timescales of the system are long compared to those being analyzed, this statistical inefficiency may be an underestimate.  The estimate presumes the use of many statistically independent samples.  Tests should be performed to assess whether this condition is satisfied.   Be cautious in the interpretation of the data.\n",
      "\n",
      "****** PyMBAR will use 64-bit JAX! *******\n",
      "* JAX is currently set to 32-bit bitsize *\n",
      "* which is its default.                  *\n",
      "*                                        *\n",
      "* PyMBAR requires 64-bit mode and WILL   *\n",
      "* enable JAX's 64-bit mode when called.  *\n",
      "*                                        *\n",
      "* This MAY cause problems with other     *\n",
      "* Uses of JAX in the same code.          *\n",
      "******************************************\n",
      "\n"
     ]
    }
   ],
   "source": [
    "import MDAnalysis as mda\n",
    "import numpy as np\n",
    "import pandas as pd\n",
    "import matplotlib.pyplot as plt\n",
    "from MDAnalysis.lib.distances import distance_array\n",
    "from MDAnalysis import units\n",
    "from MDAnalysis.analysis import rdf\n",
    "from openmm.unit import AVOGADRO_CONSTANT_NA, BOLTZMANN_CONSTANT_kB\n",
    "from openmm.unit import kelvin, bar, litre, kilojoule_per_mole, mole, nanometer, angstrom, kilocalorie_per_mole\n",
    "from openmm.unit import Quantity, Unit\n",
    "import quantities\n",
    "from matplotlib import colors\n",
    "from matplotlib.ticker import PercentFormatter\n",
    "from pymbar import timeseries\n",
    "from MDAnalysis.analysis import density\n",
    "from tqdm import tqdm\n",
    "import os\n",
    "import json\n"
   ]
  },
  {
   "cell_type": "markdown",
   "metadata": {},
   "source": [
    "## Set working directory"
   ]
  },
  {
   "cell_type": "code",
   "execution_count": 3,
   "metadata": {},
   "outputs": [],
   "source": [
    "# ffs=input(\"Which force fields? (Options: JC, CHARMM27)\")\n",
    "# os.chdir(\"/home/bamo6610/Documents/GROMACS_files/MDAnalysis/SPW_ALL/%s\"%ffs)\n",
    "\n",
    "os.chdir(\"/home/bamo6610/Documents/GROMACS_files/MDAnalysis/SPW_ALL/JC\")"
   ]
  },
  {
   "cell_type": "markdown",
   "metadata": {},
   "source": [
    "## Loading data and creating atom group of ions"
   ]
  },
  {
   "cell_type": "code",
   "execution_count": 5,
   "metadata": {},
   "outputs": [],
   "source": [
    "## 1 molal ##\n",
    "u1m_o = mda.Universe('md_1m.gro', 'md_1m.xtc')\n",
    "u1m_o.transfer_to_memory()\n",
    "ions1m_o= u1m_o.select_atoms('resname SOD CLA')\n",
    "densprof_1m_o=\"dens_o_1m.xvg\"\n",
    "\n",
    "u1m_r1 = mda.Universe('mdr1_1m.gro', 'mdr1_1m.xtc')\n",
    "u1m_r1.transfer_to_memory()\n",
    "ions1m_r1= u1m_r1.select_atoms('resname SOD CLA')\n",
    "densprof_1m_r1=\"dens_r1_1m.xvg\"\n",
    "\n",
    "u1m_r2 = mda.Universe('mdr2_1m.gro', 'mdr2_1m.xtc')\n",
    "u1m_r2.transfer_to_memory()\n",
    "ions1m_r2= u1m_r2.select_atoms('resname SOD CLA')\n",
    "densprof_1m_r2=\"dens_r2_1m.xvg\"\n",
    "\n",
    "u1m_r3 = mda.Universe('mdr3_1m.gro', 'mdr3_1m.xtc')\n",
    "u1m_r3.transfer_to_memory()\n",
    "ions1m_r3= u1m_r3.select_atoms('resname SOD CLA')\n",
    "densprof_1m_r3=\"dens_r3_1m.xvg\"\n",
    "\n",
    "us_1m = [u1m_o,u1m_r1,u1m_r2,u1m_r3]\n",
    "ions_1m = [ions1m_o,ions1m_r1,ions1m_r2,ions1m_r3]\n",
    "\n",
    "# ## 2 molal ##\n",
    "u2m_o = mda.Universe('md_2m.gro', 'md_2m.xtc')\n",
    "u2m_o.transfer_to_memory()\n",
    "ions2m_o= u2m_o.select_atoms('resname SOD CLA')\n",
    "densprof_2m_o=\"dens_o_2m.xvg\"\n",
    "\n",
    "u2m_r1 = mda.Universe('mdr1_2m.gro', 'mdr1_2m.xtc')\n",
    "u2m_r1.transfer_to_memory()\n",
    "ions2m_r1= u2m_r1.select_atoms('resname SOD CLA')\n",
    "densprof_2m_r1=\"dens_r1_2m.xvg\"\n",
    "\n",
    "u2m_r2 = mda.Universe('mdr2_2m.gro', 'mdr2_2m.xtc')\n",
    "u2m_r2.transfer_to_memory()\n",
    "ions2m_r2= u2m_r2.select_atoms('resname SOD CLA')\n",
    "densprof_2m_r2=\"dens_r2_2m.xvg\"\n",
    "\n",
    "u2m_r3 = mda.Universe('mdr3_2m.gro', 'mdr3_2m.xtc')\n",
    "u2m_r3.transfer_to_memory()\n",
    "ions2m_r3= u2m_r3.select_atoms('resname SOD CLA')\n",
    "densprof_2m_r3=\"dens_r3_2m.xvg\"\n",
    "\n",
    "us_2m = [u2m_o,u2m_r1,u2m_r2,u2m_r3]\n",
    "ions_2m = [ions2m_o,ions2m_r1,ions2m_r2,ions2m_r3]\n",
    "\n",
    "# ## 3 molal ##\n",
    "u3m_o = mda.Universe('md_3m.gro', 'md_3m.xtc')\n",
    "u3m_o.transfer_to_memory()\n",
    "ions3m_o= u3m_o.select_atoms('resname SOD CLA')\n",
    "densprof_3m_o=\"dens_o_3m.xvg\"\n",
    "\n",
    "u3m_r1 = mda.Universe('mdr1_3m.gro', 'mdr1_3m.xtc')\n",
    "u3m_r1.transfer_to_memory()\n",
    "ions3m_r1= u3m_r1.select_atoms('resname SOD CLA')\n",
    "densprof_3m_r1=\"dens_r1_3m.xvg\"\n",
    "\n",
    "u3m_r2 = mda.Universe('mdr2_3m.gro', 'mdr2_3m.xtc')\n",
    "u3m_r2.transfer_to_memory()\n",
    "ions3m_r2= u3m_r2.select_atoms('resname SOD CLA')\n",
    "densprof_3m_r2=\"dens_r2_3m.xvg\"\n",
    "\n",
    "u3m_r3 = mda.Universe('mdr3_3m.gro', 'mdr3_3m.xtc')\n",
    "u3m_r3.transfer_to_memory()\n",
    "ions3m_r3= u3m_r3.select_atoms('resname SOD CLA')\n",
    "densprof_3m_r3=\"dens_r3_3m.xvg\"\n",
    "\n",
    "us_3m = [u3m_o,u3m_r1,u3m_r2,u3m_r3]\n",
    "ions_3m = [ions3m_o,ions3m_r1,ions3m_r2,ions3m_r3]"
   ]
  },
  {
   "cell_type": "markdown",
   "metadata": {},
   "source": [
    "## Function for calculating osmotic values:"
   ]
  },
  {
   "cell_type": "code",
   "execution_count": 19,
   "metadata": {},
   "outputs": [],
   "source": [
    "def SPW_analysis(u, ions, molality, repnum,  \n",
    "                 walldist=48, kforce=4184):\n",
    "    print(\"------------------------------------------------------------------------\")\n",
    "    #Specifying molality\n",
    "    if molality == 1:\n",
    "        n_part=65\n",
    "        osm_coeff_exp=0.94\n",
    "        print(\"CONCENTRATION 1 m\")\n",
    "    elif molality ==2:\n",
    "        n_part=128\n",
    "        osm_coeff_exp=0.984\n",
    "        print(\"CONCENTRATION 2m\")\n",
    "    elif molality ==3:\n",
    "        n_part=188\n",
    "        osm_coeff_exp=1.045\n",
    "        print(\"CONCENTRATION 3m\")\n",
    "    else:\n",
    "        return (print(\"That concentration has not been added yet\"))\n",
    "    \n",
    "\n",
    "    #Specifying replicate number\n",
    "    if repnum == 0:\n",
    "        print(\"Data for original run\")\n",
    "    else:\n",
    "        print(\"Data for replicate #\",repnum)\n",
    "\n",
    "    box_size = u.dimensions[:3] * angstrom\n",
    "    wall1=(box_size[2]-walldist*angstrom)/2\n",
    "    wall2=(box_size[2]+walldist*angstrom)/2\n",
    "    R = BOLTZMANN_CONSTANT_kB * AVOGADRO_CONSTANT_NA # gas constant\n",
    "\n",
    "    box_x = box_size[0]\n",
    "    box_y = box_size[1]\n",
    "\n",
    "    A_box = box_x * box_y \n",
    "\n",
    "    dim_mem = wall2-wall1\n",
    "    V_mem = A_box * dim_mem\n",
    "    #print(V_mem)\n",
    "\n",
    "    M = n_part / (V_mem * AVOGADRO_CONSTANT_NA)\n",
    "\n",
    "## calculation of osmotic values\n",
    "\n",
    "    def osmotic_values(mean_force_wall, \n",
    "                       molarity :Quantity, vant_hoff : int=2, T=300*kelvin, \n",
    "                       cross_sectional_area : Quantity=walldist*walldist * angstrom**2, \n",
    "                       printvals = False):\n",
    "        osm_press=mean_force_wall/cross_sectional_area\n",
    "        osm_bar = osm_press.in_units_of(bar / mole)\n",
    "        osm_bar = osm_bar/AVOGADRO_CONSTANT_NA\n",
    "        osm_press_ideal=vant_hoff*molarity*R*T\n",
    "        osm_press_ideal=osm_press_ideal.in_units_of(bar)\n",
    "        osm_coeff=osm_bar/osm_press_ideal\n",
    "        \n",
    "        if printvals:\n",
    "            print(f\"Osmotic Pressure Observed:\", osm_bar)\n",
    "            print(f\"Osmotic Pressure Ideal:\", osm_press_ideal)\n",
    "            print(f\"Osmotic Coefficient:\", osm_coeff)\n",
    "    \n",
    "        return osm_bar, osm_coeff\n",
    "\n",
    "    def calculate_net_force(z_values : np.ndarray[float], zwall : float, k : float) -> float:\n",
    "        return k * abs(z_values - zwall).sum()\n",
    "\n",
    "## calculation of mean force\n",
    "\n",
    "    k_nm = kforce * kilojoule_per_mole / nanometer**2\n",
    "    k = k_nm.in_units_of(kilojoule_per_mole / angstrom**2)\n",
    "\n",
    "    walls_z_pos = np.array([walldist,2*walldist]) * angstrom\n",
    "    forces_at_ts = {1:[],2:[]}\n",
    "    \n",
    "    for _ in u.trajectory:\n",
    "\n",
    "        ions_z = ions.positions[:,2]*angstrom\n",
    "        \n",
    "        force_1 = calculate_net_force(\n",
    "            z_values=ions_z[ions_z < wall1],\n",
    "            zwall=wall1,\n",
    "            k=k\n",
    "        )\n",
    "        forces_at_ts[1].append(force_1)\n",
    "\n",
    "        force_2 = calculate_net_force(\n",
    "            z_values=ions_z[ions_z > wall2],\n",
    "            zwall=wall2,\n",
    "            k=k\n",
    "        )\n",
    "        forces_at_ts[2].append(force_2)\n",
    "\n",
    "    mean_forces = {\n",
    "        abs_wall_z : sum(force_list, start=0*(kilojoule_per_mole / angstrom)) / len(u.trajectory)\n",
    "            for abs_wall_z, force_list in forces_at_ts.items()\n",
    "    }\n",
    "\n",
    "## calling calculation of osmotic values\n",
    "    \n",
    "    for wall_z_val, mF in mean_forces.items():\n",
    "        o = osmotic_values(mF, molarity=M, printvals = False, cross_sectional_area=A_box)\n",
    "\n",
    "## plotting force vs time\n",
    "\n",
    "    fs = {1:list(),2:list()}\n",
    "    time = []\n",
    "\n",
    "    for i,ts in enumerate(u.trajectory):\n",
    "        time.append(u.trajectory.time)\n",
    "        for j in [1,2]:\n",
    "            fs[j].append((forces_at_ts[j][i]).item())\n",
    "\n",
    "    print(\"------------------------------------------------------------------------\")\n",
    "\n",
    "## calculation of autocorrelation function and plot of uncorrelated samples\n",
    "    meanfs = list()\n",
    "    varfs = list()\n",
    "    \n",
    "    for d in fs.keys():\n",
    "        f = fs[d]\n",
    "        fts=np.array(f) # the particular entry, lower or upper wall\n",
    "        #print(f\"---Wall {d*walldist/10:.1f} nm---\")\n",
    "        nskip=100\n",
    "        t0, g, Neff_max = timeseries.detect_equilibration(fts,nskip=nskip) # compute indices of uncorrelated timeseries\n",
    "        fts_equil = fts[t0:]\n",
    "        indices = timeseries.subsample_correlated_data(fts_equil, g=g)\n",
    "        fts_s = fts_equil[indices]\n",
    "    \n",
    "        indt=[]\n",
    "        for i in indices:\n",
    "            indt.append(time[i])\n",
    "\n",
    "        #statistical values of t0 (time after equil), g (statistical efficiency/correlation time of equil data), Neff (# of eff samples)\n",
    "        #print('t0 =', t0,' g =',g,' Neff_max =', Neff_max)\n",
    "        #mean of full time series\n",
    "        meanf=np.mean(f)\n",
    "        meanf=meanf*kilojoule_per_mole/angstrom\n",
    "        #stdev of the full timeseries devided by sqrt of the number of effective samples -1\n",
    "        sterrf=np.std(f)/np.sqrt(len(indt)-1)\n",
    "        #Variance calculation\n",
    "        varf = sterrf**2\n",
    "        #print(f\"Mean = {meanf}, std error = {sterrf}, variance = {varf}\",'\\n')\n",
    "        meanfs.append(meanf)\n",
    "        varfs.append(varf)\n",
    "        \n",
    "################################################################################################\n",
    "    \n",
    "    #print(\"---Statistical Analysis results---\")\n",
    "\n",
    "    #statistical average between two walls\n",
    "    statmeanF=(meanfs[0]+meanfs[1])/2\n",
    "    #statistical average between variance of data of two walls\n",
    "    av_var=(varfs[0]+varfs[1])/2\n",
    "    # mean std error from average of variances between walls\n",
    "    errvar=np.sqrt(av_var)\n",
    "\n",
    "    #print(f'Mean force over two walls: {statmeanF}')\n",
    "    #print(f'Std error in mean force over two walls: +/-{errvar:0.3f}')\n",
    "    \n",
    "    #asign units to std error of variance \n",
    "    errvar=errvar*(kilojoule_per_mole/angstrom)\n",
    "\n",
    "    ################################################################################################\n",
    "\n",
    "    print(f\"FINAL STATISTICAL RESULTS:\")\n",
    "    \n",
    "       \n",
    "    #calculation of osmotic values from statistical mean and std error\n",
    "    osmval = osmotic_values(statmeanF, molarity=M, cross_sectional_area=A_box) \n",
    "    osmerr = osmotic_values(errvar, molarity=M, cross_sectional_area=A_box)\n",
    "\n",
    "    print(f\"Osmotic Pressure = {osmval[0]} +/- {osmerr[0]} \\nOsmotic Coefficient = {osmval[1]} +/- {osmerr[1]}\")\n",
    "    print(\"------------------------------------------------------------------------\")\n",
    "    print(\"\")\n",
    "    ################################################################################################\n",
    "    results = dict()\n",
    "    \n",
    "    results['os_pres_val'] = osmval[0]\n",
    "    results['os_pres_err'] = osmerr[0]\n",
    "    results['os_coef_val'] = osmval[1]\n",
    "    results['os_coef_err'] = osmerr[1]\n",
    "    results['M'] = M\n",
    "    \n",
    "    return results\n",
    "\n",
    "# def display_results(us,ions,concentration):\n",
    "#     results=list()\n",
    "#     for i,(ui,ionsi) in enumerate(zip(us,ions)):\n",
    "#         results.append(SPW_analysis(ui,ionsi,concentration,i))\n",
    "#     return results"
   ]
  },
  {
   "cell_type": "code",
   "execution_count": 24,
   "metadata": {},
   "outputs": [
    {
     "name": "stdout",
     "output_type": "stream",
     "text": [
      "------------------------------------------------------------------------\n",
      "CONCENTRATION 2m\n",
      "Data for original run\n",
      "------------------------------------------------------------------------\n",
      "FINAL STATISTICAL RESULTS:\n",
      "Osmotic Pressure = 106.91057248673653 bar +/- 4.0489442711697965 bar \n",
      "Osmotic Coefficient = 1.1150641790991092 +/- 0.04222999292712708\n",
      "------------------------------------------------------------------------\n",
      "\n",
      "------------------------------------------------------------------------\n",
      "CONCENTRATION 2m\n",
      "Data for replicate # 1\n"
     ]
    },
    {
     "ename": "AttributeError",
     "evalue": "'float' object has no attribute 'item'",
     "output_type": "error",
     "traceback": [
      "\u001b[0;31m---------------------------------------------------------------------------\u001b[0m",
      "\u001b[0;31mAttributeError\u001b[0m                            Traceback (most recent call last)",
      "Cell \u001b[0;32mIn[24], line 4\u001b[0m\n\u001b[1;32m      2\u001b[0m concentration\u001b[38;5;241m=\u001b[39m\u001b[38;5;241m2\u001b[39m\n\u001b[1;32m      3\u001b[0m \u001b[38;5;28;01mfor\u001b[39;00m i,(ui,ionsi) \u001b[38;5;129;01min\u001b[39;00m \u001b[38;5;28menumerate\u001b[39m(\u001b[38;5;28mzip\u001b[39m(us_2m,ions_2m)):\n\u001b[0;32m----> 4\u001b[0m     results2m\u001b[38;5;241m.\u001b[39mappend(\u001b[43mSPW_analysis\u001b[49m\u001b[43m(\u001b[49m\u001b[43mui\u001b[49m\u001b[43m,\u001b[49m\u001b[43mionsi\u001b[49m\u001b[43m,\u001b[49m\u001b[43mconcentration\u001b[49m\u001b[43m,\u001b[49m\u001b[43mi\u001b[49m\u001b[43m)\u001b[49m)\n",
      "Cell \u001b[0;32mIn[19], line 110\u001b[0m, in \u001b[0;36mSPW_analysis\u001b[0;34m(u, ions, molality, repnum, walldist, kforce)\u001b[0m\n\u001b[1;32m    108\u001b[0m         time\u001b[38;5;241m.\u001b[39mappend(u\u001b[38;5;241m.\u001b[39mtrajectory\u001b[38;5;241m.\u001b[39mtime)\n\u001b[1;32m    109\u001b[0m         \u001b[38;5;28;01mfor\u001b[39;00m j \u001b[38;5;129;01min\u001b[39;00m [\u001b[38;5;241m1\u001b[39m,\u001b[38;5;241m2\u001b[39m]:\n\u001b[0;32m--> 110\u001b[0m             fs[j]\u001b[38;5;241m.\u001b[39mappend(\u001b[43m(\u001b[49m\u001b[43mforces_at_ts\u001b[49m\u001b[43m[\u001b[49m\u001b[43mj\u001b[49m\u001b[43m]\u001b[49m\u001b[43m[\u001b[49m\u001b[43mi\u001b[49m\u001b[43m]\u001b[49m\u001b[43m)\u001b[49m\u001b[38;5;241;43m.\u001b[39;49m\u001b[43mitem\u001b[49m())\n\u001b[1;32m    112\u001b[0m     \u001b[38;5;28mprint\u001b[39m(\u001b[38;5;124m\"\u001b[39m\u001b[38;5;124m------------------------------------------------------------------------\u001b[39m\u001b[38;5;124m\"\u001b[39m)\n\u001b[1;32m    114\u001b[0m \u001b[38;5;66;03m## calculation of autocorrelation function and plot of uncorrelated samples\u001b[39;00m\n",
      "File \u001b[0;32m~/miniconda3/envs/mdanalysis/lib/python3.10/site-packages/openmm/unit/quantity.py:205\u001b[0m, in \u001b[0;36mQuantity.__getattr__\u001b[0;34m(self, attribute)\u001b[0m\n\u001b[1;32m    201\u001b[0m \u001b[38;5;28;01mdef\u001b[39;00m \u001b[38;5;21m__getattr__\u001b[39m(\u001b[38;5;28mself\u001b[39m, attribute):\n\u001b[1;32m    202\u001b[0m \u001b[38;5;250m    \u001b[39m\u001b[38;5;124;03m\"\"\"\u001b[39;00m\n\u001b[1;32m    203\u001b[0m \u001b[38;5;124;03m    Delegate unrecognized attribute calls to the underlying value type.\u001b[39;00m\n\u001b[1;32m    204\u001b[0m \u001b[38;5;124;03m    \"\"\"\u001b[39;00m\n\u001b[0;32m--> 205\u001b[0m     ret_val \u001b[38;5;241m=\u001b[39m \u001b[38;5;28;43mgetattr\u001b[39;49m\u001b[43m(\u001b[49m\u001b[38;5;28;43mself\u001b[39;49m\u001b[38;5;241;43m.\u001b[39;49m\u001b[43m_value\u001b[49m\u001b[43m,\u001b[49m\u001b[43m \u001b[49m\u001b[43mattribute\u001b[49m\u001b[43m)\u001b[49m\n\u001b[1;32m    206\u001b[0m     \u001b[38;5;28;01mreturn\u001b[39;00m ret_val\n",
      "\u001b[0;31mAttributeError\u001b[0m: 'float' object has no attribute 'item'"
     ]
    }
   ],
   "source": [
    "results2m=list()\n",
    "concentration=2\n",
    "for i,(ui,ionsi) in enumerate(zip(us_2m,ions_2m)):\n",
    "    results2m.append(SPW_analysis(ui,ionsi,concentration,i))\n"
   ]
  },
  {
   "cell_type": "code",
   "execution_count": 20,
   "metadata": {},
   "outputs": [
    {
     "name": "stdout",
     "output_type": "stream",
     "text": [
      "------------------------------------------------------------------------\n",
      "CONCENTRATION 1 m\n",
      "Data for original run\n",
      "------------------------------------------------------------------------\n",
      "FINAL STATISTICAL RESULTS:\n",
      "Osmotic Pressure = 48.7227830437278 bar +/- 3.2226412897528727 bar \n",
      "Osmotic Coefficient = 1.0007092395421293 +/- 0.06618930021898281\n",
      "------------------------------------------------------------------------\n",
      "\n",
      "------------------------------------------------------------------------\n",
      "CONCENTRATION 1 m\n",
      "Data for replicate # 1\n",
      "------------------------------------------------------------------------\n",
      "FINAL STATISTICAL RESULTS:\n",
      "Osmotic Pressure = 50.72604040991329 bar +/- 2.7470341403958147 bar \n",
      "Osmotic Coefficient = 1.0418538136056323 +/- 0.0564208830838871\n",
      "------------------------------------------------------------------------\n",
      "\n",
      "------------------------------------------------------------------------\n",
      "CONCENTRATION 1 m\n",
      "Data for replicate # 2\n"
     ]
    },
    {
     "name": "stdout",
     "output_type": "stream",
     "text": [
      "------------------------------------------------------------------------\n",
      "FINAL STATISTICAL RESULTS:\n",
      "Osmotic Pressure = 50.78625117475679 bar +/- 2.7092749585711706 bar \n",
      "Osmotic Coefficient = 1.0430904726167713 +/- 0.05564535344931018\n",
      "------------------------------------------------------------------------\n",
      "\n",
      "------------------------------------------------------------------------\n",
      "CONCENTRATION 1 m\n",
      "Data for replicate # 3\n",
      "------------------------------------------------------------------------\n",
      "FINAL STATISTICAL RESULTS:\n",
      "Osmotic Pressure = 49.894526817040614 bar +/- 2.8117664537228824 bar \n",
      "Osmotic Coefficient = 1.0247754924751304 +/- 0.057750409436788476\n",
      "------------------------------------------------------------------------\n",
      "\n"
     ]
    }
   ],
   "source": [
    "results1m=display_results(us_1m,ions_1m,1)"
   ]
  },
  {
   "cell_type": "code",
   "execution_count": 22,
   "metadata": {},
   "outputs": [
    {
     "name": "stdout",
     "output_type": "stream",
     "text": [
      "------------------------------------------------------------------------\n",
      "CONCENTRATION 2m\n",
      "Data for original run\n",
      "------------------------------------------------------------------------\n",
      "FINAL STATISTICAL RESULTS:\n",
      "Osmotic Pressure = 106.91057248673653 bar +/- 4.0489442711697965 bar \n",
      "Osmotic Coefficient = 1.1150641790991092 +/- 0.04222999292712708\n",
      "------------------------------------------------------------------------\n",
      "\n",
      "------------------------------------------------------------------------\n",
      "CONCENTRATION 2m\n",
      "Data for replicate # 1\n"
     ]
    },
    {
     "ename": "AttributeError",
     "evalue": "'float' object has no attribute 'item'",
     "output_type": "error",
     "traceback": [
      "\u001b[0;31m---------------------------------------------------------------------------\u001b[0m",
      "\u001b[0;31mAttributeError\u001b[0m                            Traceback (most recent call last)",
      "Cell \u001b[0;32mIn[22], line 1\u001b[0m\n\u001b[0;32m----> 1\u001b[0m results3m\u001b[38;5;241m=\u001b[39m\u001b[43mdisplay_results\u001b[49m\u001b[43m(\u001b[49m\u001b[43mus_2m\u001b[49m\u001b[43m,\u001b[49m\u001b[43mions_2m\u001b[49m\u001b[43m,\u001b[49m\u001b[38;5;241;43m2\u001b[39;49m\u001b[43m)\u001b[49m\n",
      "Cell \u001b[0;32mIn[19], line 188\u001b[0m, in \u001b[0;36mdisplay_results\u001b[0;34m(us, ions, concentration)\u001b[0m\n\u001b[1;32m    186\u001b[0m results\u001b[38;5;241m=\u001b[39m\u001b[38;5;28mlist\u001b[39m()\n\u001b[1;32m    187\u001b[0m \u001b[38;5;28;01mfor\u001b[39;00m i,(ui,ionsi) \u001b[38;5;129;01min\u001b[39;00m \u001b[38;5;28menumerate\u001b[39m(\u001b[38;5;28mzip\u001b[39m(us,ions)):\n\u001b[0;32m--> 188\u001b[0m     results\u001b[38;5;241m.\u001b[39mappend(\u001b[43mSPW_analysis\u001b[49m\u001b[43m(\u001b[49m\u001b[43mui\u001b[49m\u001b[43m,\u001b[49m\u001b[43mionsi\u001b[49m\u001b[43m,\u001b[49m\u001b[43mconcentration\u001b[49m\u001b[43m,\u001b[49m\u001b[43mi\u001b[49m\u001b[43m)\u001b[49m)\n\u001b[1;32m    189\u001b[0m \u001b[38;5;28;01mreturn\u001b[39;00m results\n",
      "Cell \u001b[0;32mIn[19], line 110\u001b[0m, in \u001b[0;36mSPW_analysis\u001b[0;34m(u, ions, molality, repnum, walldist, kforce)\u001b[0m\n\u001b[1;32m    108\u001b[0m         time\u001b[38;5;241m.\u001b[39mappend(u\u001b[38;5;241m.\u001b[39mtrajectory\u001b[38;5;241m.\u001b[39mtime)\n\u001b[1;32m    109\u001b[0m         \u001b[38;5;28;01mfor\u001b[39;00m j \u001b[38;5;129;01min\u001b[39;00m [\u001b[38;5;241m1\u001b[39m,\u001b[38;5;241m2\u001b[39m]:\n\u001b[0;32m--> 110\u001b[0m             fs[j]\u001b[38;5;241m.\u001b[39mappend(\u001b[43m(\u001b[49m\u001b[43mforces_at_ts\u001b[49m\u001b[43m[\u001b[49m\u001b[43mj\u001b[49m\u001b[43m]\u001b[49m\u001b[43m[\u001b[49m\u001b[43mi\u001b[49m\u001b[43m]\u001b[49m\u001b[43m)\u001b[49m\u001b[38;5;241;43m.\u001b[39;49m\u001b[43mitem\u001b[49m())\n\u001b[1;32m    112\u001b[0m     \u001b[38;5;28mprint\u001b[39m(\u001b[38;5;124m\"\u001b[39m\u001b[38;5;124m------------------------------------------------------------------------\u001b[39m\u001b[38;5;124m\"\u001b[39m)\n\u001b[1;32m    114\u001b[0m \u001b[38;5;66;03m## calculation of autocorrelation function and plot of uncorrelated samples\u001b[39;00m\n",
      "File \u001b[0;32m~/miniconda3/envs/mdanalysis/lib/python3.10/site-packages/openmm/unit/quantity.py:205\u001b[0m, in \u001b[0;36mQuantity.__getattr__\u001b[0;34m(self, attribute)\u001b[0m\n\u001b[1;32m    201\u001b[0m \u001b[38;5;28;01mdef\u001b[39;00m \u001b[38;5;21m__getattr__\u001b[39m(\u001b[38;5;28mself\u001b[39m, attribute):\n\u001b[1;32m    202\u001b[0m \u001b[38;5;250m    \u001b[39m\u001b[38;5;124;03m\"\"\"\u001b[39;00m\n\u001b[1;32m    203\u001b[0m \u001b[38;5;124;03m    Delegate unrecognized attribute calls to the underlying value type.\u001b[39;00m\n\u001b[1;32m    204\u001b[0m \u001b[38;5;124;03m    \"\"\"\u001b[39;00m\n\u001b[0;32m--> 205\u001b[0m     ret_val \u001b[38;5;241m=\u001b[39m \u001b[38;5;28;43mgetattr\u001b[39;49m\u001b[43m(\u001b[49m\u001b[38;5;28;43mself\u001b[39;49m\u001b[38;5;241;43m.\u001b[39;49m\u001b[43m_value\u001b[49m\u001b[43m,\u001b[49m\u001b[43m \u001b[49m\u001b[43mattribute\u001b[49m\u001b[43m)\u001b[49m\n\u001b[1;32m    206\u001b[0m     \u001b[38;5;28;01mreturn\u001b[39;00m ret_val\n",
      "\u001b[0;31mAttributeError\u001b[0m: 'float' object has no attribute 'item'"
     ]
    }
   ],
   "source": [
    "results3m=display_results(us_2m,ions_2m,2)"
   ]
  },
  {
   "cell_type": "markdown",
   "metadata": {},
   "source": [
    "### Stdev between replicates"
   ]
  },
  {
   "cell_type": "code",
   "execution_count": 6,
   "metadata": {},
   "outputs": [],
   "source": [
    "def results_replicates(results,concentration):\n",
    "    op_vals = list()\n",
    "    oc_vals = list()\n",
    "    op_errs = list()\n",
    "    oc_errs = list()\n",
    "\n",
    "    for r in results:\n",
    "        v = r['os_pres_val']\n",
    "        op_vals.append(v.value_in_unit(v.unit))\n",
    "        v = r['os_pres_err']\n",
    "        op_errs.append(v.value_in_unit(v.unit))\n",
    "        oc_vals.append(r['os_coef_val'])\n",
    "        oc_errs.append(r['os_coef_err'])\n",
    "    oc_vals = np.array(oc_vals)\n",
    "    op_vals = np.array(op_vals)\n",
    "    op_errs = np.array(op_errs)\n",
    "    oc_errs = np.array(oc_errs)\n",
    "\n",
    "    print(\"----- Results standard deviation over replicates for %s molal -----\"%concentration)\n",
    "    stdop = op_vals.std(ddof=1)\n",
    "    # print(f'std of osmotic presssure: {stdop:.3f}')\n",
    "    stdoc = oc_vals.std(ddof=1)\n",
    "    # print(f'std of osmotic coeff: {stdoc:.3f}')\n",
    "\n",
    "    print(\"mean of osmotic pressure replicates: \",end=\"\")\n",
    "    mean_op=op_vals.mean()\n",
    "    op_err=stdop/np.sqrt(len(op_vals))\n",
    "    print(f'osmotic pressure {mean_op:.3f} +/- {op_err:.3f}')\n",
    "    \n",
    "    print(\"mean of osmotic coefficient replicates: \",end=\"\")\n",
    "    mean_oc=oc_vals.mean()\n",
    "    oc_err=stdoc/np.sqrt(len(oc_vals))\n",
    "    print(f'osmotic coeff {mean_oc:.3f} +/- {oc_err:.3f}')\n",
    "\n",
    "    final_results = dict()\n",
    "\n",
    "    final_results['mean_osmotic_pressure'] = mean_op\n",
    "    final_results['uncertainity_osmotic_pressure'] = op_err\n",
    "    \n",
    "    final_results['mean_osmotic_coefficient'] = mean_oc\n",
    "    final_results['uncertainity_osmotic_coefficient'] = oc_err\n",
    "\n",
    "    return final_results\n"
   ]
  },
  {
   "cell_type": "code",
   "execution_count": 32,
   "metadata": {},
   "outputs": [
    {
     "name": "stdout",
     "output_type": "stream",
     "text": [
      "----- Results standard deviation over replicates for 1 molal -----\n",
      "mean of osmotic pressure replicates: osmotic pressure 50.032 +/- 0.482\n",
      "mean of osmotic coefficient replicates: osmotic coeff 1.028 +/- 0.010\n"
     ]
    }
   ],
   "source": [
    "reps1m=results_replicates(results1m,1)\n",
    "# reps2m=results_replicates(results2m,2)\n",
    "# reps3m=results_replicates(results3m,3)"
   ]
  },
  {
   "cell_type": "markdown",
   "metadata": {},
   "source": [
    "## Write results to json file"
   ]
  },
  {
   "cell_type": "code",
   "execution_count": 28,
   "metadata": {},
   "outputs": [],
   "source": [
    "# with open(\"final_results.txt\",\"w\") as file:\n",
    "#     file.write(\"-- 1 molal replicate analysis --\"+\"\\n\")\n",
    "#     file.write(f\"Mean osmotic pressure: {reps1m['mean_osmotic_pressure']:.3f} +/- {reps1m['uncertainity_osmotic_pressure']:.3f} \\n\")\n",
    "#     file.write(f\"Mean osmotic coefficient: {reps1m['mean_osmotic_coefficient']:.3f} +/- {reps1m['uncertainity_osmotic_coefficient']:.3f} \\n\")"
   ]
  },
  {
   "cell_type": "code",
   "execution_count": 29,
   "metadata": {},
   "outputs": [],
   "source": [
    "def format_dict(dictionary):\n",
    "    newdict = {}\n",
    "    for x in dictionary:\n",
    "        if isinstance(dictionary[x],float):\n",
    "            newdict[x] = round(dictionary[x],3)\n",
    "        else:\n",
    "            newdict[x] = dictionary[x]\n",
    "    return newdict"
   ]
  },
  {
   "cell_type": "code",
   "execution_count": 31,
   "metadata": {},
   "outputs": [],
   "source": [
    "json_1m=json.dumps(format_dict(reps1m),indent=4)\n",
    "# json_2m=json.dumps(format_dict(reps2m),indent=4)\n",
    "# json_3m=json.dumps(format_dict(reps3m),indent=4)\n",
    "\n",
    "with open(\"final_results_1m.json\",\"w\") as outfile:\n",
    "    outfile.write(json_1m)\n",
    "\n",
    "# with open(\"final_results_2m.json\",\"w\") as outfile:\n",
    "#     outfile.write(json_2m)\n",
    "\n",
    "# with open(\"final_results_3m.json\",\"w\") as outfile:\n",
    "#     outfile.write(json_3m)"
   ]
  },
  {
   "cell_type": "markdown",
   "metadata": {},
   "source": [
    "## Density profiles using GROMACS"
   ]
  },
  {
   "cell_type": "code",
   "execution_count": 8,
   "metadata": {},
   "outputs": [],
   "source": [
    "def density_profile_conv(filename):\n",
    "    x_zcoord,y=np.loadtxt(filename,comments=[\"@\", \"#\"],unpack=True)\n",
    "    y=(y/nanometer**3)/(AVOGADRO_CONSTANT_NA)\n",
    "    y_conc=y.in_units_of(mole/litre)/2\n",
    "    return x_zcoord,y_conc"
   ]
  },
  {
   "cell_type": "markdown",
   "metadata": {},
   "source": [
    "### Density profile for 1m"
   ]
  },
  {
   "cell_type": "code",
   "execution_count": 9,
   "metadata": {},
   "outputs": [
    {
     "data": {
      "image/png": "[encoded data removed]",
      "text/plain": [
       "<Figure size 640x480 with 1 Axes>"
      ]
     },
     "metadata": {},
     "output_type": "display_data"
    }
   ],
   "source": [
    "xo,yo=density_profile_conv(densprof_1m_o)\n",
    "xr1,yr1=density_profile_conv(densprof_1m_r1)\n",
    "xr2,yr2=density_profile_conv(densprof_1m_r2)\n",
    "xr3,yr3=density_profile_conv(densprof_1m_r3)\n",
    "plt.axvline(x = 4.8, color = 'gray', label = 'walls', linestyle = 'dashed')\n",
    "plt.axvline(x = 9.6, color = 'gray', linestyle = 'dashed')\n",
    "plt.axhline(y = 1, color = 'lightgray', linestyle = 'dashed')\n",
    "plt.plot(xo,yo, c='purple', label='original')\n",
    "plt.plot(xr1,yr1, c='g', label='rep 1')\n",
    "plt.plot(xr2,yr2, c='c', label='rep 2')\n",
    "plt.plot(xr3,yr3, c='m', label='rep 3')\n",
    "plt.xlabel(\"Z coordinate (nm)\")\n",
    "plt.ylabel(\"Concentration (mol/L)\")\n",
    "plt.xticks(np.arange(0, 14.4, 1.0))\n",
    "plt.yticks(np.arange(0, 1.1, 0.1))\n",
    "plt.title('Concentration profile - JC - 1m')\n",
    "plt.legend()\n",
    "#plt.savefig(\"volume.png\", format=\"png\", dpi=300)\n",
    "plt.show()"
   ]
  },
  {
   "cell_type": "markdown",
   "metadata": {},
   "source": [
    "### Density profile for 2m"
   ]
  },
  {
   "cell_type": "markdown",
   "metadata": {},
   "source": [
    "### Density profile for 3m"
   ]
  },
  {
   "cell_type": "markdown",
   "metadata": {},
   "source": [
    "## Density profiles using MDanalysis"
   ]
  },
  {
   "cell_type": "code",
   "execution_count": 10,
   "metadata": {},
   "outputs": [],
   "source": [
    "def density_profile(universe, atom_group, bin_width=0.5, dim='z', method='atom', frameby=1):\n",
    "    '''Calculate the partial density across the box'''\n",
    "\n",
    "    if isinstance(atom_group, str): # if provided selection language, make AtomGroup\n",
    "        ag = universe.select_atoms(atom_group)\n",
    "    else: # else assume input is AtomGroup\n",
    "        ag = atom_group\n",
    "\n",
    "    print(f'\\nCalculating the partial density profile of {atom_group} in the {dim} dimension...')\n",
    "\n",
    "    dims = {'x': 0, 'y': 1, 'z': 2}\n",
    "    d = dims[dim]\n",
    "    box = universe.dimensions[d]\n",
    "\n",
    "    n_bins = int(box / bin_width)\n",
    "    bins = np.linspace(0, box, num=n_bins)\n",
    "\n",
    "    counts = np.zeros(n_bins-1)\n",
    "        \n",
    "    if len(universe.trajectory) == 0:\n",
    "        for b in tqdm(range(n_bins-1)):\n",
    "            lb = bins[b]\n",
    "            ub = bins[b+1]\n",
    "            bin_atoms = universe.select_atoms(f'prop {dim} > {lb} and prop {dim} < {ub} and group ag', ag=ag)\n",
    "            if method in ['atom', 'atoms', 'all']:\n",
    "                counts[b] += len(bin_atoms)\n",
    "            elif method in ['molecule', 'mol', 'residue', 'res']: \n",
    "                counts[b] += bin_atoms.n_residues\n",
    "            elif method in ['mass', 'mass density']:\n",
    "                box_dims = [box[i] for i in range(3) if i != d]\n",
    "                dV = box_dims[0] * box_dims[1] * (ub-lb) * (10**-8)**3\n",
    "                mass = bin_atoms.masses.sum() / 6.022 / 10**23\n",
    "                counts[b] += mass / dV\n",
    "    else:\n",
    "        for ts in tqdm(universe.trajectory[::frameby]):\n",
    "            for b in range(n_bins-1):\n",
    "                lb = bins[b]\n",
    "                ub = bins[b+1]\n",
    "                bin_atoms = universe.select_atoms(f'prop {dim} > {lb} and prop {dim} < {ub} and group ag', ag=ag)\n",
    "\n",
    "                if method in ['atom', 'atoms', 'all', 'number']:\n",
    "                    counts[b] += len(bin_atoms)                 \n",
    "                elif method in ['molecule', 'mol', 'residue', 'res']: \n",
    "                    counts[b] += bin_atoms.n_residues\n",
    "                elif method in ['mass', 'mass density']:\n",
    "                    box_dims = [box[i] for i in range(3) if i != d]\n",
    "                    dV = box_dims[0] * box_dims[1] * (ub-lb) * (10**-8)**3\n",
    "                    mass = bin_atoms.masses.sum() / 6.022 / 10**23\n",
    "                    counts[b] += mass / dV\n",
    "\n",
    "        counts = counts / len(universe.trajectory[::frameby])\n",
    "\n",
    "    return bins, counts"
   ]
  },
  {
   "cell_type": "code",
   "execution_count": 11,
   "metadata": {},
   "outputs": [],
   "source": [
    "# nbins,ncounts=density_profile(u,ions,2)\n",
    "# nbins1,ncounts1=density_profile(u1,ions1,2)\n",
    "# nbins2,ncounts2=density_profile(u2,ions2,2)\n",
    "# nbins3,ncounts3=density_profile(u3,ions3,2)"
   ]
  },
  {
   "cell_type": "markdown",
   "metadata": {},
   "source": [
    "### Density plots"
   ]
  },
  {
   "cell_type": "code",
   "execution_count": 12,
   "metadata": {},
   "outputs": [
    {
     "ename": "NameError",
     "evalue": "name 'ncounts' is not defined",
     "output_type": "error",
     "traceback": [
      "\u001b[0;31m---------------------------------------------------------------------------\u001b[0m",
      "\u001b[0;31mNameError\u001b[0m                                 Traceback (most recent call last)",
      "Cell \u001b[0;32mIn[12], line 3\u001b[0m\n\u001b[1;32m      1\u001b[0m nb\u001b[38;5;241m=\u001b[39m\u001b[38;5;241m144.4\u001b[39m\u001b[38;5;241m/\u001b[39m\u001b[38;5;241m72\u001b[39m\n\u001b[1;32m      2\u001b[0m volbin\u001b[38;5;241m=\u001b[39m\u001b[38;5;241m48\u001b[39m\u001b[38;5;241m*\u001b[39m\u001b[38;5;241m48\u001b[39m\u001b[38;5;241m*\u001b[39mnb\u001b[38;5;241m*\u001b[39mangstrom\u001b[38;5;241m*\u001b[39m\u001b[38;5;241m*\u001b[39m\u001b[38;5;241m3\u001b[39m\n\u001b[0;32m----> 3\u001b[0m counts\u001b[38;5;241m=\u001b[39m(\u001b[43mncounts\u001b[49m\u001b[38;5;241m/\u001b[39mAVOGADRO_CONSTANT_NA)\u001b[38;5;241m/\u001b[39mvolbin\u001b[38;5;241m.\u001b[39min_units_of(litre)\u001b[38;5;241m/\u001b[39m\u001b[38;5;241m2\u001b[39m\n\u001b[1;32m      4\u001b[0m counts1\u001b[38;5;241m=\u001b[39m(ncounts1\u001b[38;5;241m/\u001b[39mAVOGADRO_CONSTANT_NA)\u001b[38;5;241m/\u001b[39mvolbin\u001b[38;5;241m.\u001b[39min_units_of(litre)\u001b[38;5;241m/\u001b[39m\u001b[38;5;241m2\u001b[39m\n\u001b[1;32m      5\u001b[0m counts2\u001b[38;5;241m=\u001b[39m(ncounts2\u001b[38;5;241m/\u001b[39mAVOGADRO_CONSTANT_NA)\u001b[38;5;241m/\u001b[39mvolbin\u001b[38;5;241m.\u001b[39min_units_of(litre)\u001b[38;5;241m/\u001b[39m\u001b[38;5;241m2\u001b[39m\n",
      "\u001b[0;31mNameError\u001b[0m: name 'ncounts' is not defined"
     ]
    }
   ],
   "source": [
    "nb=144.4/72\n",
    "volbin=48*48*nb*angstrom**3\n",
    "counts=(ncounts/AVOGADRO_CONSTANT_NA)/volbin.in_units_of(litre)/2\n",
    "counts1=(ncounts1/AVOGADRO_CONSTANT_NA)/volbin.in_units_of(litre)/2\n",
    "counts2=(ncounts2/AVOGADRO_CONSTANT_NA)/volbin.in_units_of(litre)/2\n",
    "counts3=(ncounts3/AVOGADRO_CONSTANT_NA)/volbin.in_units_of(litre)/2\n",
    "\n",
    "bins=nbins/10\n",
    "bins1=nbins1/10\n",
    "bins2=nbins2/10\n",
    "bins3=nbins3/10\n",
    "\n",
    "print(counts)\n",
    "\n",
    "plt.axvline(x = 4.8, color = 'gray', label = 'walls', linestyle = 'dashed')\n",
    "plt.axvline(x = 9.6, color = 'gray', linestyle = 'dashed')\n",
    "plt.axhline(y = 1, color = 'lightgray', linestyle = 'dashed')\n",
    "plt.plot(bins[1:],counts, c='orange', label='original')\n",
    "plt.plot(bins1[1:],counts1, c='g', label='rep1')\n",
    "plt.plot(bins2[1:],counts2, c='c', label='rep2')\n",
    "plt.plot(bins3[1:],counts3, c='m', label='rep3')\n",
    "\n",
    "plt.xlabel(\"Z coordinate (nm)\")\n",
    "plt.ylabel(\"Concentration (mol/L)\")\n",
    "plt.xticks(np.arange(0, 14.4, 1))\n",
    "plt.title(\"Concentration profile of replicates - CHARMM27\")\n",
    "plt.legend()\n",
    "plt.show()"
   ]
  },
  {
   "cell_type": "code",
   "execution_count": null,
   "metadata": {},
   "outputs": [],
   "source": []
  }
 ],
 "metadata": {
  "kernelspec": {
   "display_name": "Python 3 (ipykernel)",
   "language": "python",
   "name": "python3"
  },
  "language_info": {
   "codemirror_mode": {
    "name": "ipython",
    "version": 3
   },
   "file_extension": ".py",
   "mimetype": "text/x-python",
   "name": "python",
   "nbconvert_exporter": "python",
   "pygments_lexer": "ipython3",
   "version": "3.10.13"
  }
 },
 "nbformat": 4,
 "nbformat_minor": 2
}
