{
 "cells": [
  {
   "cell_type": "markdown",
   "metadata": {},
   "source": [
    "## Imports"
   ]
  },
  {
   "cell_type": "code",
   "execution_count": 1,
   "metadata": {},
   "outputs": [
    {
     "name": "stderr",
     "output_type": "stream",
     "text": [
      "/tmp/ipykernel_774842/3626084654.py:3: DeprecationWarning: \n",
      "Pyarrow will become a required dependency of pandas in the next major release of pandas (pandas 3.0),\n",
      "(to allow more performant data types, such as the Arrow string type, and better interoperability with other libraries)\n",
      "but was not found to be installed on your system.\n",
      "If this would cause problems for you,\n",
      "please provide us feedback at https://github.com/pandas-dev/pandas/issues/54466\n",
      "        \n",
      "  import pandas as pd\n",
      "Warning on use of the timeseries module: If the inherent timescales of the system are long compared to those being analyzed, this statistical inefficiency may be an underestimate.  The estimate presumes the use of many statistically independent samples.  Tests should be performed to assess whether this condition is satisfied.   Be cautious in the interpretation of the data.\n",
      "\n",
      "****** PyMBAR will use 64-bit JAX! *******\n",
      "* JAX is currently set to 32-bit bitsize *\n",
      "* which is its default.                  *\n",
      "*                                        *\n",
      "* PyMBAR requires 64-bit mode and WILL   *\n",
      "* enable JAX's 64-bit mode when called.  *\n",
      "*                                        *\n",
      "* This MAY cause problems with other     *\n",
      "* Uses of JAX in the same code.          *\n",
      "******************************************\n",
      "\n"
     ]
    }
   ],
   "source": [
    "import MDAnalysis as mda\n",
    "import numpy as np\n",
    "import pandas as pd\n",
    "import matplotlib.pyplot as plt\n",
    "\n",
    "from MDAnalysis.lib.distances import distance_array\n",
    "from MDAnalysis import units\n",
    "from MDAnalysis.analysis import rdf\n",
    "\n",
    "from openmm.unit import Quantity, Unit\n",
    "from openmm.unit import kelvin, bar, litre, kilojoule_per_mole, mole, nanometer, angstrom, kilocalorie_per_mole\n",
    "from openmm.unit import AVOGADRO_CONSTANT_NA, BOLTZMANN_CONSTANT_kB\n",
    "R = BOLTZMANN_CONSTANT_kB * AVOGADRO_CONSTANT_NA # gas constant\n",
    "\n",
    "import quantities\n",
    "from matplotlib import colors\n",
    "from matplotlib.ticker import PercentFormatter\n",
    "from pymbar import timeseries\n",
    "from MDAnalysis.analysis import density\n",
    "from tqdm import tqdm\n",
    "import os\n",
    "import json\n"
   ]
  },
  {
   "cell_type": "markdown",
   "metadata": {},
   "source": [
    "## Set working directory"
   ]
  },
  {
   "cell_type": "code",
   "execution_count": 2,
   "metadata": {},
   "outputs": [],
   "source": [
    "# ffs=input(\"Which force fields? (Options: JC, CHARMM27)\")\n",
    "# os.chdir(\"/home/bamo6610/Documents/GROMACS_files/MDAnalysis/SPW_ALL/%s\"%ffs)\n",
    "\n",
    "os.chdir(\"/home/bamo6610/Documents/GROMACS_files/MDAnalysis/SPW_ALL/OpenFF2.1\")"
   ]
  },
  {
   "cell_type": "markdown",
   "metadata": {},
   "source": [
    "## Loading data and creating atom group of ions"
   ]
  },
  {
   "cell_type": "code",
   "execution_count": 3,
   "metadata": {},
   "outputs": [],
   "source": [
    "## 1 molal ##\n",
    "u1m_o = mda.Universe('mdr4_1m.pdb', 'mdr4_1m.xtc')\n",
    "u1m_o.transfer_to_memory()\n",
    "ions1m_o= u1m_o.select_atoms('resname NA CL')\n",
    "\n",
    "u1m_r1 = mda.Universe('mdr1_1m.pdb', 'mdr1_1m.xtc')\n",
    "u1m_r1.transfer_to_memory()\n",
    "ions1m_r1= u1m_r1.select_atoms('resname NA CL')\n",
    "\n",
    "u1m_r2 = mda.Universe('mdr2_1m.pdb', 'mdr2_1m.xtc')\n",
    "u1m_r2.transfer_to_memory()\n",
    "ions1m_r2= u1m_r2.select_atoms('resname NA CL')\n",
    "\n",
    "u1m_r3 = mda.Universe('mdr3_1m.pdb', 'mdr3_1m.xtc')\n",
    "u1m_r3.transfer_to_memory()\n",
    "ions1m_r3= u1m_r3.select_atoms('resname NA CL')\n",
    "\n",
    "us_1m = [u1m_o,u1m_r1,u1m_r2,u1m_r3]\n",
    "ions_1m = [ions1m_o,ions1m_r1,ions1m_r2,ions1m_r3]\n",
    "\n",
    "# ## 2 molal ##\n",
    "u2m_o = mda.Universe('mdr4_2m.pdb', 'mdr4_2m.xtc')\n",
    "u2m_o.transfer_to_memory()\n",
    "ions2m_o= u2m_o.select_atoms('resname NA CL')\n",
    "\n",
    "u2m_r1 = mda.Universe('mdr1_2m.pdb', 'mdr1_2m.xtc')\n",
    "u2m_r1.transfer_to_memory()\n",
    "ions2m_r1= u2m_r1.select_atoms('resname NA CL')\n",
    "\n",
    "u2m_r2 = mda.Universe('mdr2_2m.pdb', 'mdr2_2m.xtc')\n",
    "u2m_r2.transfer_to_memory()\n",
    "ions2m_r2= u2m_r2.select_atoms('resname NA CL')\n",
    "\n",
    "u2m_r3 = mda.Universe('mdr3_2m.pdb', 'mdr3_2m.xtc')\n",
    "u2m_r3.transfer_to_memory()\n",
    "ions2m_r3= u2m_r3.select_atoms('resname NA CL')\n",
    "\n",
    "us_2m = [u2m_o,u2m_r1,u2m_r2,u2m_r3]\n",
    "ions_2m = [ions2m_o,ions2m_r1,ions2m_r2,ions2m_r3]\n",
    "\n",
    "# ## 3 molal ##\n",
    "u3m_o = mda.Universe('mdr4_3m.pdb', 'mdr4_3m.xtc')\n",
    "u3m_o.transfer_to_memory()\n",
    "ions3m_o= u3m_o.select_atoms('resname NA CL')\n",
    "\n",
    "u3m_r1 = mda.Universe('mdr1_3m.pdb', 'mdr1_3m.xtc')\n",
    "u3m_r1.transfer_to_memory()\n",
    "ions3m_r1= u3m_r1.select_atoms('resname NA CL')\n",
    "\n",
    "u3m_r2 = mda.Universe('mdr2_3m.pdb', 'mdr2_3m.xtc')\n",
    "u3m_r2.transfer_to_memory()\n",
    "ions3m_r2= u3m_r2.select_atoms('resname NA CL')\n",
    "\n",
    "u3m_r3 = mda.Universe('mdr3_3m.pdb', 'mdr3_3m.xtc')\n",
    "u3m_r3.transfer_to_memory()\n",
    "ions3m_r3= u3m_r3.select_atoms('resname NA CL')\n",
    "\n",
    "us_3m = [u3m_o,u3m_r1,u3m_r2,u3m_r3]\n",
    "ions_3m = [ions3m_o,ions3m_r1,ions3m_r2,ions3m_r3]"
   ]
  },
  {
   "cell_type": "markdown",
   "metadata": {},
   "source": [
    "## Utility functions"
   ]
  },
  {
   "cell_type": "code",
   "execution_count": 4,
   "metadata": {},
   "outputs": [],
   "source": [
    "from typing import TypeAlias, TypeVar\n",
    "Shape : TypeAlias = tuple\n",
    "N = TypeVar('N')\n",
    "M = TypeVar('M')\n",
    "\n",
    "from openmm.unit import molar, kilogram, picoseconds\n",
    "from dataclasses import dataclass"
   ]
  },
  {
   "cell_type": "code",
   "execution_count": 5,
   "metadata": {},
   "outputs": [],
   "source": [
    "@dataclass\n",
    "class Wall:\n",
    "    '''For representing info about the location and orientation of a wall'''\n",
    "    wall_pos : Quantity\n",
    "    wall_normal : Quantity\n",
    "\n",
    "@dataclass\n",
    "class IonMolalInfo:\n",
    "    molality : Quantity\n",
    "    n_parts : int\n",
    "    osm_coeff_exp : float\n",
    "    molarity : Quantity = None\n",
    "\n",
    "def osmotic_values(\n",
    "        mean_force_wall : Quantity, \n",
    "        molarity : Quantity,\n",
    "        cross_sectional_area : Quantity, \n",
    "        vant_hoff : int=2,\n",
    "        T : Quantity=300*kelvin, \n",
    "        printvals : bool=False\n",
    "    ) -> Quantity:\n",
    "    '''Compute osmotic pressure and coefficient from mean force from wall'''\n",
    "    osm_press=mean_force_wall/cross_sectional_area\n",
    "    osm_bar = osm_press.in_units_of(bar / mole)\n",
    "    osm_bar = osm_bar/AVOGADRO_CONSTANT_NA\n",
    "    \n",
    "    osm_press_ideal=vant_hoff*molarity*R*T\n",
    "    osm_press_ideal=osm_press_ideal.in_units_of(bar)\n",
    "    osm_coeff=osm_bar/osm_press_ideal\n",
    "    \n",
    "    if printvals:\n",
    "        print(f\"Osmotic Pressure Observed:\", osm_bar)\n",
    "        print(f\"Osmotic Pressure Ideal:\", osm_press_ideal)\n",
    "        print(f\"Osmotic Coefficient:\", osm_coeff)\n",
    "\n",
    "    return osm_bar, osm_coeff\n",
    "\n",
    "def filter_coords_by_wall(\n",
    "    coords_rel_wall : np.ndarray[Shape[N, M, 3], float], \n",
    "    wall_normal : np.ndarray[Shape[3], float],\n",
    "    dist_unit : Unit=angstrom,\n",
    ") -> np.ndarray[Shape[N, M, 3], float]:\n",
    "    '''Zeros out all coordinates which are not in the normal direction relative to a wall'''\n",
    "    in_right_direction = np.dot(coords_rel_wall, wall_normal) > 0.0\n",
    "    return np.where(in_right_direction[..., np.newaxis], coords_rel_wall, 0.0) * dist_unit # need to broadcast direction bools, since dot product reduces dimension along xyz\n",
    "\n",
    "def calculate_force_matrix_all_ions_rel_wall(\n",
    "    coords : np.ndarray[Shape[N, M, 3], float], \n",
    "    wall_pos : np.ndarray[Shape[3], float],\n",
    "    wall_normal : np.ndarray[Shape[3], float],\n",
    "    K : Quantity,\n",
    "    dist_unit : Unit=angstrom,\n",
    ") -> np.ndarray[Shape[M], float]:\n",
    "    '''Calculates net harmonic force experience by particle on one side of a wall\n",
    "    coords should be a 3D array with axes of time, ion index, and spatial coordinate, respectively\n",
    "    wall_pos is a vector describing the position of the wall in space\n",
    "    wall_normal gives the normal direction relative to the wall (to determine whether particles behnd or ahead of the wall are kept)'''\n",
    "    coords_rel_wall = coords - wall_pos\n",
    "    coords_behind_wall = filter_coords_by_wall(coords_rel_wall, wall_normal=wall_normal, dist_unit=dist_unit)\n",
    "    z_coords_rel_wall = coords_behind_wall[..., 2]\n",
    "\n",
    "    # NOTE: cannot use np.abs, as this will discard unit info\n",
    "    return K * abs(z_coords_rel_wall) # sum along time dimension to leave array with 1 force per particle\n"
   ]
  },
  {
   "cell_type": "markdown",
   "metadata": {},
   "source": [
    "## Old functions"
   ]
  },
  {
   "cell_type": "code",
   "execution_count": 6,
   "metadata": {},
   "outputs": [],
   "source": [
    "def calculate_net_force(z_values : np.ndarray[float], zwall : float, k : float) -> float:\n",
    "    return k * abs(z_values - zwall).sum()\n",
    "\n",
    "def get_universe_area_and_volume(u : mda.Universe) -> tuple[Quantity, Quantity]:\n",
    "    '''Returns the XY-plane area and box volume of an MDAnalysis universe'''\n",
    "    box_sizes = u.dimensions[:3] * angstrom\n",
    "    box_x, box_y, box_z = box_sizes\n",
    "\n",
    "    A_box = box_x * box_y\n",
    "    V_box = A_box * box_z\n",
    "\n",
    "    return A_box, V_box\n",
    "\n",
    "def SPW_analysis(\n",
    "        times : np.ndarray[1, Quantity],\n",
    "        ion_coords : np.ndarray[Shape[N, M, 3], Quantity],\n",
    "        molality_info : IonMolalInfo,\n",
    "        k : Quantity,\n",
    "        A_box : Quantity,\n",
    "        walls : list[Wall],\n",
    "        repnum : int,\n",
    "        nskip : int=100,\n",
    "    ) -> None:\n",
    "    '''DOCS'''\n",
    "\n",
    "    SPACER = f'\\n{\"-\"*50}\\n'\n",
    "\n",
    "    print(SPACER)\n",
    "    print(f\"CONCENTRATION: {molality_info.molality}\")\n",
    "\n",
    "    #Specifying replicate number\n",
    "    if repnum == 0:\n",
    "        print(\"Data for original run\")\n",
    "    else:\n",
    "        print(\"Data for replicate #\",repnum)\n",
    "\n",
    "    ## calculation of mean force matrix\n",
    "    force_matrices = [\n",
    "        calculate_force_matrix_all_ions_rel_wall(\n",
    "            ion_coords,\n",
    "            wall_pos=wall.wall_pos,\n",
    "            wall_normal=wall.wall_normal,\n",
    "            K=k,\n",
    "            dist_unit=angstrom\n",
    "        )    \n",
    "        for wall in walls\n",
    "     ]\n",
    "    # print(\n",
    "    #     [\n",
    "    #         osmotic_values(fm.mean(axis=0).sum(), molarity=molality_info.molarity, cross_sectional_area=A_box)\n",
    "    #         for fm in force_matrices\n",
    "    #     ]\n",
    "    # )\n",
    "    if force_matrices:\n",
    "        NULL_FORCE = 0.0 * force_matrices[0].unit # needed to get sum to start with the right units (can't just add to 0)\n",
    "\n",
    "    force_matrix = sum(force_matrices, start=NULL_FORCE) / len(force_matrices) # NOTE: need to average over all walls, and numpy can't get the job done on its own\n",
    "    forces_time_avg = force_matrix.mean(axis=0)\n",
    "    forces_over_all_ions = force_matrix.sum(axis=1)\n",
    "\n",
    "    ## calculation of autocorrelation function and plot of uncorrelated samples\n",
    "    # statistical values of t0 (time after equil), g (statistical efficiency/correlation time of equil data), Neff (# of eff samples)\n",
    "    t0, g, Neff_max = timeseries.detect_equilibration(forces_over_all_ions._value, nskip=nskip) # compute indices of uncorrelated timeseries\n",
    "    forces_over_all_ions_equil = forces_over_all_ions[t0:]\n",
    "    uncorr_sample_idxs = timeseries.subsample_correlated_data(forces_over_all_ions_equil, g=g)\n",
    "    uncorr_sample_idxs = np.array(uncorr_sample_idxs)\n",
    "    \n",
    "    sample_forces = forces_over_all_ions_equil[uncorr_sample_idxs]\n",
    "    sample_times  = times[uncorr_sample_idxs]\n",
    "\n",
    "    # mean of full time series\n",
    "    force_mean = sample_forces.mean()\n",
    "    force_std  = sample_forces.std() / np.sqrt(Neff_max - 1) # TODO: make sure propagation of errors is being done correctly (since now the addition is being done up-front)\n",
    "\n",
    "    ## calculation of osmotic values from statistical mean and std error\n",
    "    print(f\"FINAL STATISTICAL RESULTS:\")\n",
    "    osm_press_mean, osm_coeff_mean = osmotic_values(force_mean, molarity=molality_info.molarity, cross_sectional_area=A_box) \n",
    "    osm_press_std , osm_coeff_std  = osmotic_values(force_std , molarity=molality_info.molarity, cross_sectional_area=A_box)\n",
    "\n",
    "    print(f\"Osmotic Pressure = {osm_press_mean}+/-{osm_press_std**2}\")\n",
    "    print(f\"\\nOsmotic Coefficient = {osm_coeff_mean}+/-{osm_coeff_std**2}\")\n",
    "    print(SPACER)\n",
    "    \n",
    "    ################################################################################################\n",
    "    # results = {\n",
    "    #     'os_press_mean' : osm_press_mean,\n",
    "    #     'os_press_std'  : osm_press_std ,\n",
    "    #     'os_press_var'  : osm_press_std**2,\n",
    "    #     'os_coeff_mean' : osm_coeff_mean,\n",
    "    #     'os_coeff_std'  : osm_coeff_std ,\n",
    "    #     'os_coeff_var'  : osm_coeff_std**2,\n",
    "    # }\n",
    "    results = dict()\n",
    "    \n",
    "    results['os_press_mean'] = osm_press_mean\n",
    "    results['os_press_var'] = osm_press_std**2\n",
    "    results['os_coeff_mean'] = osm_coeff_mean\n",
    "    results['os_coeff_var'] = osm_coeff_std**2\n",
    "    \n",
    "    return results\n"
   ]
  },
  {
   "cell_type": "markdown",
   "metadata": {},
   "source": [
    "## Computing releavnt physical quantities and running Osmotic calculations / stats"
   ]
  },
  {
   "cell_type": "code",
   "execution_count": 7,
   "metadata": {},
   "outputs": [],
   "source": [
    "# define wall positions and ion conc parameters\n",
    "walls = [\n",
    "    Wall(\n",
    "        wall_pos   =np.array([0.0, 0.0, 48.0]) * angstrom,\n",
    "        wall_normal=np.array([0.0, 0.0, -1.0]) * angstrom,\n",
    "    ),\n",
    "    Wall(\n",
    "        wall_pos   =np.array([0.0, 0.0, 96.0]) * angstrom,\n",
    "        wall_normal=np.array([0.0, 0.0, 1.0]) * angstrom,\n",
    "    ),\n",
    "]\n",
    "\n",
    "molal_infos = {\n",
    "    1 : IonMolalInfo(\n",
    "        molality=1.0*(mole / kilogram),\n",
    "        n_parts=65,\n",
    "        osm_coeff_exp=0.940,\n",
    "        # molarity=0.98*molar\n",
    "    ),\n",
    "    2 : IonMolalInfo(\n",
    "        molality=2.0*(mole / kilogram),\n",
    "        n_parts=128,\n",
    "        osm_coeff_exp=0.984,\n",
    "        # molarity=1.92*molar\n",
    "    ),\n",
    "    3 : IonMolalInfo(\n",
    "        molality=3.0*(mole / kilogram),\n",
    "        n_parts=188,\n",
    "        osm_coeff_exp=1.045,\n",
    "        # molarity=2.82*molar\n",
    "    ),\n",
    "}"
   ]
  },
  {
   "cell_type": "code",
   "execution_count": 8,
   "metadata": {},
   "outputs": [],
   "source": [
    "# pick your specific parameters here\n",
    "# u = u1m_o\n",
    "# atom_group = ions1m_o\n",
    "\n",
    "# m_info = molal_infos[1]\n",
    "# k = 4184 * kilojoule_per_mole / nanometer**2\n",
    "def run_analysis(u,atom_group,concentration,repnum):\n",
    "    m_info = molal_infos[concentration]\n",
    "    k = 4184 * kilojoule_per_mole / nanometer**2\n",
    "    # pre-processing parameters\n",
    "    times = np.array([u.trajectory.time for _ in u.trajectory]) * picoseconds\n",
    "    all_coords = u.trajectory.coordinate_array * angstrom\n",
    "    ion_coords = all_coords[:, atom_group.indices, :]\n",
    "\n",
    "    A_box, V_box = get_universe_area_and_volume(u)\n",
    "    wall_sep = abs(walls[1].wall_pos - walls[0].wall_pos)[2] # !NEED TO EXTRACT Z-COMPONENT OF COORDINATE DIFFERENCE!\n",
    "    V_mem = A_box * wall_sep\n",
    "    m_info.molarity = m_info.n_parts / (V_mem * AVOGADRO_CONSTANT_NA)\n",
    "\n",
    "    k = k.in_units_of(kilojoule_per_mole / angstrom**2)\n",
    "\n",
    "    # run analysis\n",
    "    results = SPW_analysis(times, ion_coords, m_info, k, A_box, walls, repnum)\n",
    "    return results\n",
    "\n"
   ]
  },
  {
   "cell_type": "code",
   "execution_count": 9,
   "metadata": {},
   "outputs": [
    {
     "name": "stdout",
     "output_type": "stream",
     "text": [
      "\n",
      "--------------------------------------------------\n",
      "\n",
      "CONCENTRATION: 1.0 mol/kg\n",
      "Data for original run\n",
      "FINAL STATISTICAL RESULTS:\n",
      "Osmotic Pressure = 51.05890111603839 bar+/-3.7537518576077837 bar**2\n",
      "\n",
      "Osmotic Coefficient = 1.05078883609435+/-0.0015898404145762127\n",
      "\n",
      "--------------------------------------------------\n",
      "\n",
      "\n",
      "--------------------------------------------------\n",
      "\n",
      "CONCENTRATION: 1.0 mol/kg\n",
      "Data for replicate # 1\n",
      "FINAL STATISTICAL RESULTS:\n",
      "Osmotic Pressure = 48.70479271336957 bar+/-2.7151604670073377 bar**2\n",
      "\n",
      "Osmotic Coefficient = 1.002174489864275+/-0.0011495789169558592\n",
      "\n",
      "--------------------------------------------------\n",
      "\n",
      "\n",
      "--------------------------------------------------\n",
      "\n",
      "CONCENTRATION: 1.0 mol/kg\n",
      "Data for replicate # 2\n",
      "FINAL STATISTICAL RESULTS:\n",
      "Osmotic Pressure = 49.644341816979704 bar+/-3.6225631441296753 bar**2\n",
      "\n",
      "Osmotic Coefficient = 1.0206782098731242+/-0.0015312783292616935\n",
      "\n",
      "--------------------------------------------------\n",
      "\n",
      "\n",
      "--------------------------------------------------\n",
      "\n",
      "CONCENTRATION: 1.0 mol/kg\n",
      "Data for replicate # 3\n",
      "FINAL STATISTICAL RESULTS:\n",
      "Osmotic Pressure = 51.518514241838325 bar+/-4.325536667056824 bar**2\n",
      "\n",
      "Osmotic Coefficient = 1.0602470834603965+/-0.0018320086133546058\n",
      "\n",
      "--------------------------------------------------\n",
      "\n"
     ]
    }
   ],
   "source": [
    "results1m=list()\n",
    "for i,(ui,ionsi) in enumerate(zip(us_1m,ions_1m)):\n",
    "    results1m.append(run_analysis(ui,ionsi,1,i))"
   ]
  },
  {
   "cell_type": "code",
   "execution_count": 10,
   "metadata": {},
   "outputs": [
    {
     "name": "stdout",
     "output_type": "stream",
     "text": [
      "\n",
      "--------------------------------------------------\n",
      "\n",
      "CONCENTRATION: 2.0 mol/kg\n",
      "Data for original run\n",
      "FINAL STATISTICAL RESULTS:\n",
      "Osmotic Pressure = 109.08813132165405 bar+/-12.935172449083137 bar**2\n",
      "\n",
      "Osmotic Coefficient = 1.1386293170446375+/-0.0014092302002444415\n",
      "\n",
      "--------------------------------------------------\n",
      "\n",
      "\n",
      "--------------------------------------------------\n",
      "\n",
      "CONCENTRATION: 2.0 mol/kg\n",
      "Data for replicate # 1\n",
      "FINAL STATISTICAL RESULTS:\n",
      "Osmotic Pressure = 97.3408324877659 bar+/-9.844166243030058 bar**2\n",
      "\n",
      "Osmotic Coefficient = 1.017877271140842+/-0.001076414800483712\n",
      "\n",
      "--------------------------------------------------\n",
      "\n",
      "\n",
      "--------------------------------------------------\n",
      "\n",
      "CONCENTRATION: 2.0 mol/kg\n",
      "Data for replicate # 2\n",
      "FINAL STATISTICAL RESULTS:\n",
      "Osmotic Pressure = 104.65011563885867 bar+/-5.132785365923244 bar**2\n",
      "\n",
      "Osmotic Coefficient = 1.093148396030163+/-0.000560056604016234\n",
      "\n",
      "--------------------------------------------------\n",
      "\n",
      "\n",
      "--------------------------------------------------\n",
      "\n",
      "CONCENTRATION: 2.0 mol/kg\n",
      "Data for replicate # 3\n",
      "FINAL STATISTICAL RESULTS:\n",
      "Osmotic Pressure = 97.87747744271472 bar+/-4.940156150354747 bar**2\n",
      "\n",
      "Osmotic Coefficient = 1.0227225815179657+/-0.0005393750223108101\n",
      "\n",
      "--------------------------------------------------\n",
      "\n"
     ]
    }
   ],
   "source": [
    "results2m=list()\n",
    "for i,(ui,ionsi) in enumerate(zip(us_2m,ions_2m)):\n",
    "    results2m.append(run_analysis(ui,ionsi,2,i))"
   ]
  },
  {
   "cell_type": "code",
   "execution_count": 11,
   "metadata": {},
   "outputs": [
    {
     "name": "stdout",
     "output_type": "stream",
     "text": [
      "\n",
      "--------------------------------------------------\n",
      "\n",
      "CONCENTRATION: 3.0 mol/kg\n",
      "Data for original run\n",
      "FINAL STATISTICAL RESULTS:\n",
      "Osmotic Pressure = 168.42704479123535 bar+/-14.661853474681735 bar**2\n",
      "\n",
      "Osmotic Coefficient = 1.1984006746613207+/-0.0007422826464722634\n",
      "\n",
      "--------------------------------------------------\n",
      "\n",
      "\n",
      "--------------------------------------------------\n",
      "\n",
      "CONCENTRATION: 3.0 mol/kg\n",
      "Data for replicate # 1\n",
      "FINAL STATISTICAL RESULTS:\n",
      "Osmotic Pressure = 163.24994506700756 bar+/-15.792208361267726 bar**2\n",
      "\n",
      "Osmotic Coefficient = 1.1640323020345789+/-0.0008029099542437559\n",
      "\n",
      "--------------------------------------------------\n",
      "\n",
      "\n",
      "--------------------------------------------------\n",
      "\n",
      "CONCENTRATION: 3.0 mol/kg\n",
      "Data for replicate # 2\n",
      "FINAL STATISTICAL RESULTS:\n",
      "Osmotic Pressure = 161.53387964392007 bar+/-12.244096233442376 bar**2\n",
      "\n",
      "Osmotic Coefficient = 1.1493065496609889+/-0.0006198280839177822\n",
      "\n",
      "--------------------------------------------------\n",
      "\n",
      "\n",
      "--------------------------------------------------\n",
      "\n",
      "CONCENTRATION: 3.0 mol/kg\n",
      "Data for replicate # 3\n",
      "FINAL STATISTICAL RESULTS:\n",
      "Osmotic Pressure = 158.98896773559775 bar+/-13.086363241428726 bar**2\n",
      "\n",
      "Osmotic Coefficient = 1.135299600610393+/-0.000667276702243275\n",
      "\n",
      "--------------------------------------------------\n",
      "\n"
     ]
    }
   ],
   "source": [
    "results3m=list()\n",
    "for i,(ui,ionsi) in enumerate(zip(us_3m,ions_3m)):\n",
    "    results3m.append(run_analysis(ui,ionsi,3,i))"
   ]
  },
  {
   "cell_type": "code",
   "execution_count": 12,
   "metadata": {},
   "outputs": [
    {
     "name": "stdout",
     "output_type": "stream",
     "text": [
      "<class 'list'>\n"
     ]
    }
   ],
   "source": [
    "print(type(results1m))"
   ]
  },
  {
   "cell_type": "code",
   "execution_count": 13,
   "metadata": {},
   "outputs": [],
   "source": [
    "# for i in results3m:\n",
    "#     print(results3m[i])"
   ]
  },
  {
   "cell_type": "markdown",
   "metadata": {},
   "source": [
    "### Stdev between replicates"
   ]
  },
  {
   "cell_type": "code",
   "execution_count": 14,
   "metadata": {},
   "outputs": [],
   "source": [
    "def results_replicates(results,concentration):\n",
    "    op_vals = list()\n",
    "    oc_vals = list()\n",
    "    op_errs = list()\n",
    "    oc_errs = list()\n",
    "\n",
    "    for r in results:\n",
    "        v = r['os_press_mean']\n",
    "        op_vals.append(v.value_in_unit(v.unit))\n",
    "        v = r['os_press_var']\n",
    "        op_errs.append(v.value_in_unit(v.unit))\n",
    "        oc_vals.append(r['os_coeff_mean'])\n",
    "        oc_errs.append(r['os_coeff_var'])\n",
    "    oc_vals = np.array(oc_vals)\n",
    "    op_vals = np.array(op_vals)\n",
    "    op_errs = np.array(op_errs)\n",
    "    oc_errs = np.array(oc_errs)\n",
    "\n",
    "    print(\"----- Results standard deviation over replicates for %s molal -----\"%concentration)\n",
    "    stdop = op_vals.std(ddof=1)\n",
    "    # print(f'std of osmotic presssure: {stdop:.3f}')\n",
    "    stdoc = oc_vals.std(ddof=1)\n",
    "    # print(f'std of osmotic coeff: {stdoc:.3f}')\n",
    "\n",
    "    print(\"mean of osmotic pressure replicates: \",end=\"\")\n",
    "    mean_op=op_vals.mean()\n",
    "    op_err=stdop/np.sqrt(len(op_vals))\n",
    "    print(f'osmotic pressure {mean_op:.3f} +/- {op_err:.3f}')\n",
    "    \n",
    "    print(\"mean of osmotic coefficient replicates: \",end=\"\")\n",
    "    mean_oc=oc_vals.mean()\n",
    "    oc_err=stdoc/np.sqrt(len(oc_vals))\n",
    "    print(f'osmotic coeff {mean_oc:.3f} +/- {oc_err:.3f}')\n",
    "\n",
    "    final_results = dict()\n",
    "\n",
    "    final_results['mean_osmotic_pressure'] = mean_op\n",
    "    final_results['uncertainity_osmotic_pressure'] = op_err\n",
    "    \n",
    "    final_results['mean_osmotic_coefficient'] = mean_oc\n",
    "    final_results['uncertainity_osmotic_coefficient'] = oc_err\n",
    "\n",
    "    return final_results\n"
   ]
  },
  {
   "cell_type": "code",
   "execution_count": 15,
   "metadata": {},
   "outputs": [
    {
     "name": "stdout",
     "output_type": "stream",
     "text": [
      "----- Results standard deviation over replicates for 1 molal -----\n",
      "mean of osmotic pressure replicates: osmotic pressure 50.232 +/- 0.647\n",
      "mean of osmotic coefficient replicates: osmotic coeff 1.033 +/- 0.013\n",
      "----- Results standard deviation over replicates for 2 molal -----\n",
      "mean of osmotic pressure replicates: osmotic pressure 102.239 +/- 2.825\n",
      "mean of osmotic coefficient replicates: osmotic coeff 1.068 +/- 0.029\n",
      "----- Results standard deviation over replicates for 3 molal -----\n",
      "mean of osmotic pressure replicates: osmotic pressure 163.050 +/- 1.995\n",
      "mean of osmotic coefficient replicates: osmotic coeff 1.162 +/- 0.014\n"
     ]
    }
   ],
   "source": [
    "reps1m=results_replicates(results1m,1)\n",
    "reps2m=results_replicates(results2m,2)\n",
    "reps3m=results_replicates(results3m,3)"
   ]
  },
  {
   "cell_type": "markdown",
   "metadata": {},
   "source": [
    "## Write results to json file"
   ]
  },
  {
   "cell_type": "code",
   "execution_count": 16,
   "metadata": {},
   "outputs": [],
   "source": [
    "# with open(\"final_results.txt\",\"w\") as file:\n",
    "#     file.write(\"-- 1 molal replicate analysis --\"+\"\\n\")\n",
    "#     file.write(f\"Mean osmotic pressure: {reps1m['mean_osmotic_pressure']:.3f} +/- {reps1m['uncertainity_osmotic_pressure']:.3f} \\n\")\n",
    "#     file.write(f\"Mean osmotic coefficient: {reps1m['mean_osmotic_coefficient']:.3f} +/- {reps1m['uncertainity_osmotic_coefficient']:.3f} \\n\")"
   ]
  },
  {
   "cell_type": "code",
   "execution_count": 17,
   "metadata": {},
   "outputs": [],
   "source": [
    "def format_dict(dictionary):\n",
    "    newdict = {}\n",
    "    for x in dictionary:\n",
    "        if isinstance(dictionary[x],float):\n",
    "            newdict[x] = round(dictionary[x],3)\n",
    "        else:\n",
    "            newdict[x] = dictionary[x]\n",
    "    return newdict"
   ]
  },
  {
   "cell_type": "code",
   "execution_count": 18,
   "metadata": {},
   "outputs": [],
   "source": [
    "json_1m=json.dumps(format_dict(reps1m),indent=4)\n",
    "json_2m=json.dumps(format_dict(reps2m),indent=4)\n",
    "json_3m=json.dumps(format_dict(reps3m),indent=4)\n",
    "\n",
    "with open(\"final_results_1m.json\",\"w\") as outfile:\n",
    "    outfile.write(json_1m)\n",
    "\n",
    "with open(\"final_results_2m.json\",\"w\") as outfile:\n",
    "    outfile.write(json_2m)\n",
    "\n",
    "with open(\"final_results_3m.json\",\"w\") as outfile:\n",
    "    outfile.write(json_3m)"
   ]
  },
  {
   "cell_type": "markdown",
   "metadata": {},
   "source": [
    "## Density profiles using MDanalysis"
   ]
  },
  {
   "cell_type": "code",
   "execution_count": 19,
   "metadata": {},
   "outputs": [],
   "source": [
    "def density_profile(universe, atom_group, bin_width=0.5, dim='z', method='atom', frameby=1):\n",
    "    '''Calculate the partial density across the box'''\n",
    "\n",
    "    if isinstance(atom_group, str): # if provided selection language, make AtomGroup\n",
    "        ag = universe.select_atoms(atom_group)\n",
    "    else: # else assume input is AtomGroup\n",
    "        ag = atom_group\n",
    "\n",
    "    print(f'\\nCalculating the partial density profile of {atom_group} in the {dim} dimension...')\n",
    "\n",
    "    dims = {'x': 0, 'y': 1, 'z': 2}\n",
    "    d = dims[dim]\n",
    "    box = universe.dimensions[d]\n",
    "\n",
    "    n_bins = int(box / bin_width)\n",
    "    bins = np.linspace(0, box, num=n_bins)\n",
    "\n",
    "    counts = np.zeros(n_bins-1)\n",
    "        \n",
    "    if len(universe.trajectory) == 0:\n",
    "        for b in tqdm(range(n_bins-1)):\n",
    "            lb = bins[b]\n",
    "            ub = bins[b+1]\n",
    "            bin_atoms = universe.select_atoms(f'prop {dim} > {lb} and prop {dim} < {ub} and group ag', ag=ag)\n",
    "            if method in ['atom', 'atoms', 'all']:\n",
    "                counts[b] += len(bin_atoms)\n",
    "            elif method in ['molecule', 'mol', 'residue', 'res']: \n",
    "                counts[b] += bin_atoms.n_residues\n",
    "            elif method in ['mass', 'mass density']:\n",
    "                box_dims = [box[i] for i in range(3) if i != d]\n",
    "                dV = box_dims[0] * box_dims[1] * (ub-lb) * (10**-8)**3\n",
    "                mass = bin_atoms.masses.sum() / 6.022 / 10**23\n",
    "                counts[b] += mass / dV\n",
    "    else:\n",
    "        for ts in tqdm(universe.trajectory[::frameby]):\n",
    "            for b in range(n_bins-1):\n",
    "                lb = bins[b]\n",
    "                ub = bins[b+1]\n",
    "                bin_atoms = universe.select_atoms(f'prop {dim} > {lb} and prop {dim} < {ub} and group ag', ag=ag)\n",
    "\n",
    "                if method in ['atom', 'atoms', 'all', 'number']:\n",
    "                    counts[b] += len(bin_atoms)                 \n",
    "                elif method in ['molecule', 'mol', 'residue', 'res']: \n",
    "                    counts[b] += bin_atoms.n_residues\n",
    "                elif method in ['mass', 'mass density']:\n",
    "                    box_dims = [box[i] for i in range(3) if i != d]\n",
    "                    dV = box_dims[0] * box_dims[1] * (ub-lb) * (10**-8)**3\n",
    "                    mass = bin_atoms.masses.sum() / 6.022 / 10**23\n",
    "                    counts[b] += mass / dV\n",
    "\n",
    "        counts = counts / len(universe.trajectory[::frameby])\n",
    "\n",
    "    return bins/10, counts"
   ]
  },
  {
   "cell_type": "code",
   "execution_count": null,
   "metadata": {},
   "outputs": [],
   "source": []
  },
  {
   "cell_type": "code",
   "execution_count": 20,
   "metadata": {},
   "outputs": [
    {
     "name": "stdout",
     "output_type": "stream",
     "text": [
      "\n",
      "Calculating the partial density profile of <AtomGroup [<Atom 11101: Na00 of type Na of resname NA, resid 1 and segid I and altLoc >, <Atom 11102: Na01 of type Na of resname NA, resid 1 and segid J and altLoc >, <Atom 11103: Na02 of type Na of resname NA, resid 1 and segid K and altLoc >, ..., <Atom 11228: Cl62 of type Cl of resname CL, resid 1 and segid F and altLoc >, <Atom 11229: Cl63 of type Cl of resname CL, resid 1 and segid G and altLoc >, <Atom 11230: Cl64 of type Cl of resname CL, resid 1 and segid H and altLoc >]> in the z dimension...\n"
     ]
    },
    {
     "name": "stderr",
     "output_type": "stream",
     "text": [
      "100%|██████████| 1000/1000 [10:34<00:00,  1.58it/s]\n"
     ]
    },
    {
     "name": "stdout",
     "output_type": "stream",
     "text": [
      "\n",
      "Calculating the partial density profile of <AtomGroup [<Atom 11101: Na00 of type Na of resname NA, resid 1 and segid I and altLoc >, <Atom 11102: Na01 of type Na of resname NA, resid 1 and segid J and altLoc >, <Atom 11103: Na02 of type Na of resname NA, resid 1 and segid K and altLoc >, ..., <Atom 11354: Cl12 of type Cl of resname CL, resid 1 and segid B and altLoc >, <Atom 11355: Cl12 of type Cl of resname CL, resid 1 and segid C and altLoc >, <Atom 11356: Cl12 of type Cl of resname CL, resid 1 and segid D and altLoc >]> in the z dimension...\n"
     ]
    },
    {
     "name": "stderr",
     "output_type": "stream",
     "text": [
      "100%|██████████| 1000/1000 [10:41<00:00,  1.56it/s]\n"
     ]
    },
    {
     "name": "stdout",
     "output_type": "stream",
     "text": [
      "\n",
      "Calculating the partial density profile of <AtomGroup [<Atom 11101: Na00 of type Na of resname NA, resid 1 and segid I and altLoc >, <Atom 11102: Na01 of type Na of resname NA, resid 1 and segid J and altLoc >, <Atom 11103: Na02 of type Na of resname NA, resid 1 and segid K and altLoc >, ..., <Atom 11474: Cl18 of type Cl of resname CL, resid 1 and segid R and altLoc >, <Atom 11475: Cl18 of type Cl of resname CL, resid 1 and segid S and altLoc >, <Atom 11476: Cl18 of type Cl of resname CL, resid 1 and segid T and altLoc >]> in the z dimension...\n"
     ]
    },
    {
     "name": "stderr",
     "output_type": "stream",
     "text": [
      "100%|██████████| 1000/1000 [18:19<00:00,  1.10s/it]\n"
     ]
    }
   ],
   "source": [
    "nbins1,ncounts1=density_profile(u1m_o,ions1m_o)\n",
    "nbins2,ncounts2=density_profile(u2m_o,ions2m_o)\n",
    "nbins3,ncounts3=density_profile(u3m_o,ions3m_o)"
   ]
  },
  {
   "cell_type": "markdown",
   "metadata": {},
   "source": [
    "### Density plots"
   ]
  },
  {
   "cell_type": "code",
   "execution_count": 21,
   "metadata": {},
   "outputs": [
    {
     "ename": "NameError",
     "evalue": "name 'bins' is not defined",
     "output_type": "error",
     "traceback": [
      "\u001b[0;31m---------------------------------------------------------------------------\u001b[0m",
      "\u001b[0;31mNameError\u001b[0m                                 Traceback (most recent call last)",
      "Cell \u001b[0;32mIn[21], line 18\u001b[0m\n\u001b[1;32m     16\u001b[0m plt\u001b[38;5;241m.\u001b[39maxvline(x \u001b[38;5;241m=\u001b[39m \u001b[38;5;241m9.6\u001b[39m, color \u001b[38;5;241m=\u001b[39m \u001b[38;5;124m'\u001b[39m\u001b[38;5;124mgray\u001b[39m\u001b[38;5;124m'\u001b[39m, linestyle \u001b[38;5;241m=\u001b[39m \u001b[38;5;124m'\u001b[39m\u001b[38;5;124mdashed\u001b[39m\u001b[38;5;124m'\u001b[39m)\n\u001b[1;32m     17\u001b[0m plt\u001b[38;5;241m.\u001b[39maxhline(y \u001b[38;5;241m=\u001b[39m \u001b[38;5;241m1\u001b[39m, color \u001b[38;5;241m=\u001b[39m \u001b[38;5;124m'\u001b[39m\u001b[38;5;124mlightgray\u001b[39m\u001b[38;5;124m'\u001b[39m, linestyle \u001b[38;5;241m=\u001b[39m \u001b[38;5;124m'\u001b[39m\u001b[38;5;124mdashed\u001b[39m\u001b[38;5;124m'\u001b[39m)\n\u001b[0;32m---> 18\u001b[0m plt\u001b[38;5;241m.\u001b[39mplot(\u001b[43mbins\u001b[49m[\u001b[38;5;241m1\u001b[39m:],counts, c\u001b[38;5;241m=\u001b[39m\u001b[38;5;124m'\u001b[39m\u001b[38;5;124morange\u001b[39m\u001b[38;5;124m'\u001b[39m, label\u001b[38;5;241m=\u001b[39m\u001b[38;5;124m'\u001b[39m\u001b[38;5;124moriginal\u001b[39m\u001b[38;5;124m'\u001b[39m)\n\u001b[1;32m     19\u001b[0m plt\u001b[38;5;241m.\u001b[39mplot(bins1[\u001b[38;5;241m1\u001b[39m:],counts1, c\u001b[38;5;241m=\u001b[39m\u001b[38;5;124m'\u001b[39m\u001b[38;5;124mg\u001b[39m\u001b[38;5;124m'\u001b[39m, label\u001b[38;5;241m=\u001b[39m\u001b[38;5;124m'\u001b[39m\u001b[38;5;124mrep1\u001b[39m\u001b[38;5;124m'\u001b[39m)\n\u001b[1;32m     20\u001b[0m plt\u001b[38;5;241m.\u001b[39mplot(bins2[\u001b[38;5;241m1\u001b[39m:],counts2, c\u001b[38;5;241m=\u001b[39m\u001b[38;5;124m'\u001b[39m\u001b[38;5;124mc\u001b[39m\u001b[38;5;124m'\u001b[39m, label\u001b[38;5;241m=\u001b[39m\u001b[38;5;124m'\u001b[39m\u001b[38;5;124mrep2\u001b[39m\u001b[38;5;124m'\u001b[39m)\n",
      "\u001b[0;31mNameError\u001b[0m: name 'bins' is not defined"
     ]
    },
    {
     "data": {
      "image/png": "[encoded data removed]",
      "text/plain": [
       "<Figure size 640x480 with 1 Axes>"
      ]
     },
     "metadata": {},
     "output_type": "display_data"
    }
   ],
   "source": [
    "# nb=144.4/72\n",
    "# volbin=48*48*nb*angstrom**3\n",
    "# counts=(ncounts/AVOGADRO_CONSTANT_NA)/volbin.in_units_of(litre)/2\n",
    "# counts1=(ncounts1/AVOGADRO_CONSTANT_NA)/volbin.in_units_of(litre)/2\n",
    "# counts2=(ncounts2/AVOGADRO_CONSTANT_NA)/volbin.in_units_of(litre)/2\n",
    "# counts3=(ncounts3/AVOGADRO_CONSTANT_NA)/volbin.in_units_of(litre)/2\n",
    "\n",
    "# bins=nbins/10\n",
    "# bins1=nbins1/10\n",
    "# bins2=nbins2/10\n",
    "# bins3=nbins3/10\n",
    "\n",
    "# print(counts)\n",
    "\n",
    "plt.axvline(x = 4.8, color = 'gray', label = 'walls', linestyle = 'dashed')\n",
    "plt.axvline(x = 9.6, color = 'gray', linestyle = 'dashed')\n",
    "plt.axhline(y = 1, color = 'lightgray', linestyle = 'dashed')\n",
    "plt.plot(bins[1:],counts, c='orange', label='original')\n",
    "plt.plot(bins1[1:],counts1, c='g', label='rep1')\n",
    "plt.plot(bins2[1:],counts2, c='c', label='rep2')\n",
    "plt.plot(bins3[1:],counts3, c='m', label='rep3')\n",
    "\n",
    "plt.xlabel(\"Z coordinate (nm)\")\n",
    "plt.ylabel(\"Concentration (mol/L)\")\n",
    "plt.xticks(np.arange(0, 14.4, 1))\n",
    "plt.title(\"Concentration profile of replicates - CHARMM27\")\n",
    "plt.legend()\n",
    "plt.show()"
   ]
  },
  {
   "cell_type": "code",
   "execution_count": null,
   "metadata": {},
   "outputs": [],
   "source": []
  }
 ],
 "metadata": {
  "kernelspec": {
   "display_name": "Python 3 (ipykernel)",
   "language": "python",
   "name": "python3"
  },
  "language_info": {
   "codemirror_mode": {
    "name": "ipython",
    "version": 3
   },
   "file_extension": ".py",
   "mimetype": "text/x-python",
   "name": "python",
   "nbconvert_exporter": "python",
   "pygments_lexer": "ipython3",
   "version": "3.10.13"
  }
 },
 "nbformat": 4,
 "nbformat_minor": 2
}
